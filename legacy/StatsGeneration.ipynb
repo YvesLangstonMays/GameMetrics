{
 "cells": [
  {
   "cell_type": "code",
   "execution_count": 2,
   "metadata": {},
   "outputs": [
    {
     "data": {
      "text/plain": [
       "'This is an example script using the nba_api to generate Excel sheets with player data.\\nYou may reference this for future projects to understand some of the basic functionality of the nba_api\\nand the parameters it takes. Note intent for Excel sheets is mainly for human visualization, we will use pandas for manipulation and\\na database service for storage. Readability edits by @YvesLangstonMays'"
      ]
     },
     "execution_count": 2,
     "metadata": {},
     "output_type": "execute_result"
    }
   ],
   "source": [
    "import nba_api.stats.endpoints as nba\n",
    "from nba_api.stats.endpoints import commonallplayers\n",
    "import pandas\n",
    "import pandas as pd\n",
    "import numpy as np\n",
    "import matplotlib as plot\n",
    "\n",
    "# import tensorflow as tf\n",
    "from nba_api.stats.static import teams, players\n",
    "\n",
    "\"\"\"This is an example script using the nba_api to generate Excel sheets with player data.\n",
    "You may reference this for future projects to understand some of the basic functionality of the nba_api\n",
    "and the parameters it takes. Note intent for Excel sheets is mainly for human visualization, we will use pandas for manipulation and\n",
    "a database service for storage. Readability edits by @YvesLangstonMays\"\"\"\n"
   ]
  },
  {
   "cell_type": "code",
   "execution_count": 3,
   "metadata": {},
   "outputs": [],
   "source": [
    "#Setting up basic functions to generate parameters\n",
    "\"\"\"Set the years/seasons we want to retrieve\"\"\"\n",
    "years = list(range(2003, 2024))\n",
    "\n",
    "\"\"\"Retrieve the active players\"\"\"\n",
    "players = players.get_active_players()\n",
    "\n",
    "seasons = []\n",
    "\"\"\"This loops through the years list and adds the year the season ends to the year in the list. e.g. 2008 becomes 2008-09\"\"\"\n",
    "for index, year in enumerate(years):\n",
    "    try:\n",
    "        seasons.append(str(year) + \"-\" + str(years[index + 1])[2:4])\n",
    "    except IndexError:\n",
    "        break\n",
    "\n",
    "\n",
    "\"\"\"Much easier to read way of finding the correct id\"\"\"\n",
    "lebron_id = None\n",
    "for player in players:\n",
    "    if player[\"full_name\"] == \"LeBron James\":\n",
    "        lebron_id = player[\"id\"]\n",
    "\n",
    "game_ids = []\n",
    "\n",
    "\"\"\"Using a function for readability and flexibility\"\"\"\n",
    "\n",
    "\n",
    "def get_active_players_for_season(season_num):\n",
    "    all_players = commonallplayers.CommonAllPlayers(\n",
    "        is_only_current_season=0, season=season_num\n",
    "    ).get_data_frames()[0]\n",
    "    active_players = all_players[all_players[\"ROSTERSTATUS\"] == 1]\n",
    "    return active_players\n",
    "\n",
    "\n",
    "seasons = [\"2019-20\", \"2020-21\"]\n",
    "active_players_by_season = {}"
   ]
  },
  {
   "cell_type": "code",
   "execution_count": 4,
   "metadata": {},
   "outputs": [
    {
     "name": "stdout",
     "output_type": "stream",
     "text": [
      "['0021901310' '0021901296' '0021901282' '0021901273' '0021901265'\n",
      " '0021901255' '0021901243' '0021901232' '0021900968' '0021900948'\n",
      " '0021900939' '0021900915' '0021900900' '0021900891' '0021900876'\n",
      " '0021900861' '0021900842' '0021900833' '0021900817' '0021900801'\n",
      " '0021900783' '0021900768' '0021900754' '0021900736' '0021900726'\n",
      " '0021900684' '0021900667' '0021900659' '0021900648' '0021900633'\n",
      " '0021900613' '0021900597' '0021900580' '0021900572' '0021900553'\n",
      " '0021900538' '0021900522' '0021900507' '0021900490' '0021900484'\n",
      " '0021900458' '0021900443' '0021900417' '0021900402' '0021900390'\n",
      " '0021900374' '0021900358' '0021900342' '0021900329' '0021900314'\n",
      " '0021900304' '0021900287' '0021900279' '0021900264' '0021900249'\n",
      " '0021900232' '0021900220' '0021900201' '0021900188' '0021900174'\n",
      " '0021900159' '0021900151' '0021900139' '0021900126' '0021900100'\n",
      " '0021900088' '0021900074' '0021900054' '0021900040' '0021900025'\n",
      " '0021900002' '0022001072' '0022001061' '0022001046' '0022001041'\n",
      " '0022001024' '0022001010' '0022001002' '0022000982' '0022000974'\n",
      " '0022000956' '0022000935' '0022000917' '0022000908' '0022000897'\n",
      " '0022000875' '0022000855' '0022000842' '0022000825' '0022000815'\n",
      " '0022000800' '0022000784' '0022000772' '0022000756' '0022000746'\n",
      " '0022000729' '0022000706' '0022000693' '0022000681' '0022000663'\n",
      " '0022000651' '0022000640' '0022000630' '0022000615' '0022000608'\n",
      " '0022000585' '0022000551' '0022000542' '0022000527' '0022000512'\n",
      " '0022000497' '0022000479' '0022000463' '0022000446' '0022000431'\n",
      " '0022000416' '0022000403' '0022000390' '0022000374' '0022000361'\n",
      " '0022000341' '0022000313' '0022000302' '0022000284' '0022000276'\n",
      " '0022000261' '0022000245' '0022000226' '0022000212' '0022000187'\n",
      " '0022000170' '0022000161' '0022000146' '0022000131' '0022000121'\n",
      " '0022000103' '0022000087' '0022000075' '0022000060' '0022000045'\n",
      " '0022000040' '0022000008' '0022000002']\n"
     ]
    }
   ],
   "source": [
    "#Using NBA API to generate Lebron's data in each game, converting to pandas, then Excel\n",
    "for season_num in seasons:\n",
    "    current_season = active_players_by_season[season_num] = (\n",
    "        get_active_players_for_season(season_num)\n",
    "    )\n",
    "\n",
    "    if lebron_id in current_season[\"PERSON_ID\"].values:\n",
    "        season_team = current_season.loc[\n",
    "            current_season[\"PERSON_ID\"] == lebron_id, \"TEAM_ID\"\n",
    "        ].iloc[0]\n",
    "        games = nba.leaguegamefinder.LeagueGameFinder(\n",
    "            team_id_nullable=season_team,\n",
    "            season_nullable=season_num,\n",
    "            season_type_nullable=\"Regular Season\",\n",
    "        ).get_data_frames()[0]\n",
    "        game_ids.extend(games[\"GAME_ID\"].values.tolist())\n",
    "\n",
    "game_ids = np.array(game_ids)\n",
    "\n",
    "\n",
    "print(game_ids)\n",
    "\n",
    "\n",
    "lebron_data = pd.DataFrame()\n",
    "\n",
    "\n",
    "for id in game_ids:\n",
    "    boxScore = nba.BoxScoreTraditionalV2(game_id=id).get_data_frames()[0]\n",
    "    lebron_stats = boxScore[boxScore[\"PLAYER_ID\"] == lebron_id]\n",
    "    lebron_data = pd.concat([lebron_data, lebron_stats])\n",
    "    lebron_data.to_excel(\"lebron.xlsx\")"
   ]
  }
 ],
 "metadata": {
  "kernelspec": {
   "display_name": "game_metrics",
   "language": "python",
   "name": "python3"
  },
  "language_info": {
   "codemirror_mode": {
    "name": "ipython",
    "version": 3
   },
   "file_extension": ".py",
   "mimetype": "text/x-python",
   "name": "python",
   "nbconvert_exporter": "python",
   "pygments_lexer": "ipython3",
   "version": "3.9.13"
  }
 },
 "nbformat": 4,
 "nbformat_minor": 2
}
